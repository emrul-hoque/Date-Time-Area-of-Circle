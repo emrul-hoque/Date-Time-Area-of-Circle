{
  "nbformat": 4,
  "nbformat_minor": 0,
  "metadata": {
    "colab": {
      "provenance": [],
      "authorship_tag": "ABX9TyMMxM5zbjY7flOsJrVK98/x",
      "include_colab_link": true
    },
    "kernelspec": {
      "name": "python3",
      "display_name": "Python 3"
    },
    "language_info": {
      "name": "python"
    }
  },
  "cells": [
    {
      "cell_type": "markdown",
      "metadata": {
        "id": "view-in-github",
        "colab_type": "text"
      },
      "source": [
        "<a href=\"https://colab.research.google.com/github/emrul-hoque/Date-Time-Area-of-Circle/blob/master/hello_world.ipynb\" target=\"_parent\"><img src=\"https://colab.research.google.com/assets/colab-badge.svg\" alt=\"Open In Colab\"/></a>"
      ]
    },
    {
      "cell_type": "code",
      "execution_count": 3,
      "metadata": {
        "colab": {
          "base_uri": "https://localhost:8080/"
        },
        "id": "gEOmVyauZ5Ih",
        "outputId": "7e8a14eb-de78-4e22-b5c3-50e5e89a4fcb"
      },
      "outputs": [
        {
          "output_type": "stream",
          "name": "stdout",
          "text": [
            "Hello World!!!\n"
          ]
        }
      ],
      "source": [
        "print('Hello World!!!')"
      ]
    },
    {
      "cell_type": "code",
      "source": [
        "print(\"second version\")"
      ],
      "metadata": {
        "id": "6ef0SLFcbqkn",
        "outputId": "be60c372-e8e7-4533-9823-88d7eabc2900",
        "colab": {
          "base_uri": "https://localhost:8080/"
        }
      },
      "execution_count": 4,
      "outputs": [
        {
          "output_type": "stream",
          "name": "stdout",
          "text": [
            "second version\n"
          ]
        }
      ]
    }
  ]
}